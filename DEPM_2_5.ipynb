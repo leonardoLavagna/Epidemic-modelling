{
 "cells": [
  {
   "cell_type": "markdown",
   "id": "b499f36c",
   "metadata": {},
   "source": [
    "# Digital Epidemiology Final Project\n",
    "\n",
    "**LEONARDO LAVAGNA 1650170**\n",
    "\n",
    "**GROUP 14**"
   ]
  },
  {
   "cell_type": "markdown",
   "id": "b278a15c",
   "metadata": {},
   "source": [
    "## PART 1 . Simulation of an epidemic on a given network using an SIR model"
   ]
  },
  {
   "cell_type": "markdown",
   "id": "6ab42c30",
   "metadata": {},
   "source": [
    "### Set up"
   ]
  },
  {
   "cell_type": "code",
   "execution_count": null,
   "id": "e0b4ba35",
   "metadata": {
    "scrolled": true
   },
   "outputs": [],
   "source": [
    "#!pip install EoN"
   ]
  },
  {
   "cell_type": "code",
   "execution_count": 1,
   "id": "21562926",
   "metadata": {},
   "outputs": [],
   "source": [
    "# LIBRARIES\n",
    "\n",
    "import networkx as nx\n",
    "import matplotlib.pyplot as plt\n",
    "import matplotlib\n",
    "import EoN\n",
    "import random\n",
    "import numpy as np\n",
    "import pandas as pd\n",
    "import auxiliary_functions as AF"
   ]
  },
  {
   "cell_type": "code",
   "execution_count": 2,
   "id": "0e61c24e",
   "metadata": {},
   "outputs": [
    {
     "name": "stdout",
     "output_type": "stream",
     "text": [
      "Value of r_0: 0.19999999999999998\n"
     ]
    }
   ],
   "source": [
    "# GLOBAL PARAMETERS\n",
    "\n",
    "#transmission rates\n",
    "beta  = 0.005\n",
    "betas = [10*beta,beta/10]\n",
    "\n",
    "#recovery rate\n",
    "gamma = 0.025\n",
    "\n",
    "#times\n",
    "t0   = 0\n",
    "tmax = 100\n",
    "\n",
    "#r0\n",
    "r0 = beta/gamma\n",
    "print(\"Value of r_0:\", r0)\n",
    "\n",
    "#percentage of initial infected\n",
    "rho = 0.1"
   ]
  },
  {
   "cell_type": "markdown",
   "id": "c1f13ecf",
   "metadata": {},
   "source": [
    "### Graph creation"
   ]
  },
  {
   "cell_type": "code",
   "execution_count": 3,
   "id": "ba81259b",
   "metadata": {},
   "outputs": [],
   "source": [
    "# GRAPH\n",
    "\n",
    "g = nx.read_edgelist(\"edges-13.csv\",delimiter=',',create_using=nx.Graph(),nodetype=int)"
   ]
  },
  {
   "cell_type": "code",
   "execution_count": null,
   "id": "c868211d",
   "metadata": {},
   "outputs": [],
   "source": [
    "# CHECK\n",
    "\n",
    "print(nx.info(g))"
   ]
  },
  {
   "cell_type": "code",
   "execution_count": null,
   "id": "3ac9741c",
   "metadata": {},
   "outputs": [],
   "source": [
    "# NODES POSITIONS FOR PLOTTING\n",
    "\n",
    "spring_pos = nx.spring_layout(g)"
   ]
  },
  {
   "cell_type": "code",
   "execution_count": null,
   "id": "44e06ee4",
   "metadata": {},
   "outputs": [],
   "source": [
    "# PLOT\n",
    "\n",
    "nx.draw_networkx(g,pos=spring_pos,with_labels=False,node_size=5)"
   ]
  },
  {
   "cell_type": "markdown",
   "id": "86556fc1",
   "metadata": {},
   "source": [
    "### SIR simulation"
   ]
  },
  {
   "cell_type": "code",
   "execution_count": null,
   "id": "a0b70b10",
   "metadata": {},
   "outputs": [],
   "source": [
    "# SIMULATION\n",
    "\n",
    "sim = EoN.Gillespie_SIR(g,tau = beta, gamma = gamma,return_full_data=True)\n",
    "t, S, I, R = EoN.Gillespie_SIR(g,tau = beta, gamma = gamma,rho = rho)"
   ]
  },
  {
   "cell_type": "code",
   "execution_count": null,
   "id": "257e605e",
   "metadata": {},
   "outputs": [],
   "source": [
    "# PLOTS AT TIME t0\n",
    "\n",
    "sim.display(time=t0,pos=spring_pos,node_size=5)\n",
    "plt.show()"
   ]
  },
  {
   "cell_type": "code",
   "execution_count": null,
   "id": "0865dda1",
   "metadata": {},
   "outputs": [],
   "source": [
    "# PLOTS AT TIME tmax\n",
    "\n",
    "sim.display(time=tmax,pos=spring_pos,node_size=5)\n",
    "plt.show()"
   ]
  },
  {
   "cell_type": "markdown",
   "id": "c44d2fe7",
   "metadata": {},
   "source": [
    "### SIR dynamics"
   ]
  },
  {
   "cell_type": "code",
   "execution_count": null,
   "id": "f299a497",
   "metadata": {},
   "outputs": [],
   "source": [
    "# PLOTS OF THE SIR DYNAMICS\n",
    "\n",
    "fig, ax = plt.subplots()\n",
    "ax.plot(t, S, label = \"S\",color=\"blue\")\n",
    "ax.plot(t, I, label = \"I\",color=\"orange\")\n",
    "ax.plot(t, R, label = \"R\",color=\"green\")\n",
    "plt.title(\"SIR dynamics\")\n",
    "plt.legend(loc=\"best\")\n",
    "plt.show()"
   ]
  },
  {
   "cell_type": "code",
   "execution_count": null,
   "id": "47c1a230",
   "metadata": {},
   "outputs": [],
   "source": [
    "# EPIDEMIC SIZE\n",
    "\n",
    "I.argmax()/g.order()"
   ]
  },
  {
   "cell_type": "markdown",
   "id": "911093c3",
   "metadata": {},
   "source": [
    "### Analysis of the final epidemic size as beta changes when gamma is fixed \n"
   ]
  },
  {
   "cell_type": "code",
   "execution_count": null,
   "id": "194608de",
   "metadata": {},
   "outputs": [],
   "source": [
    "# SIMULATION IN THE CASE r0>1\n",
    "\n",
    "t1, S1, I1, R1 = EoN.Gillespie_SIR(g,tau = betas[0], gamma = gamma,rho = rho)"
   ]
  },
  {
   "cell_type": "code",
   "execution_count": null,
   "id": "07384fd4",
   "metadata": {},
   "outputs": [],
   "source": [
    "# SIMULATION IN THE CASE r0<1\n",
    "\n",
    "t2, S2, I2, R2 = EoN.Gillespie_SIR(g,tau = betas[1], gamma = gamma,rho = rho)"
   ]
  },
  {
   "cell_type": "code",
   "execution_count": null,
   "id": "c57eea86",
   "metadata": {},
   "outputs": [],
   "source": [
    "# PLOTS\n",
    "\n",
    "plt.plot(t1, I1, color='r', label='R_0>1')\n",
    "plt.plot(t2, I2, color='g', label='R_0<1')\n",
    "plt.legend()\n",
    "plt.show()"
   ]
  },
  {
   "cell_type": "markdown",
   "id": "ef80012f",
   "metadata": {},
   "source": [
    "### Study of the epidemic threshold"
   ]
  },
  {
   "cell_type": "markdown",
   "id": "10e71171",
   "metadata": {},
   "source": [
    "**Reference**: Gabriel Fabricius, Alberto Maltz, Exploring the threshold of epidemic spreading for a stochastic SIR model with local and global contacts, Physica A: Statistical Mechanics and its Applications, Volume 540, 2020, 123208, ISSN 0378-4371, https://doi.org/10.1016/j.physa.2019.123208. \n",
    "\n",
    "**Online Version of the Reference**: https://www.sciencedirect.com/science/article/pii/S0378437119318035)"
   ]
  },
  {
   "cell_type": "code",
   "execution_count": null,
   "id": "6b4c5cb9",
   "metadata": {},
   "outputs": [],
   "source": [
    "# SIMULATION\n",
    "\n",
    "sim_thr = EoN.Gillespie_SIR(g, tau=gamma, gamma=gamma, return_full_data=True)\n",
    "t_thr, S_thr, I_thr, R_thr = EoN.Gillespie_SIR(g, tau=gamma, gamma=gamma, rho=rho)"
   ]
  },
  {
   "cell_type": "code",
   "execution_count": null,
   "id": "6d2bf4db",
   "metadata": {},
   "outputs": [],
   "source": [
    "# PLOTS AT TIME t0\n",
    "\n",
    "sim_thr.display(time=t0, pos=spring_pos,node_size=5)\n",
    "plt.show()"
   ]
  },
  {
   "cell_type": "code",
   "execution_count": null,
   "id": "8f16046a",
   "metadata": {},
   "outputs": [],
   "source": [
    "# PLOTS AT TIME tmax\n",
    "\n",
    "sim_thr.display(time=tmax, pos=spring_pos,node_size=5)\n",
    "plt.show()"
   ]
  },
  {
   "cell_type": "code",
   "execution_count": null,
   "id": "3de919da",
   "metadata": {},
   "outputs": [],
   "source": [
    "# PLOTS OF THE SIR DYNAMICS\n",
    "\n",
    "fig, ax = plt.subplots()\n",
    "ax.plot(t_thr, S_thr, label = \"S\",color=\"blue\")\n",
    "ax.plot(t_thr, I_thr, label = \"I\",color=\"orange\")\n",
    "ax.plot(t_thr, R_thr, label = \"R\",color=\"green\")\n",
    "plt.title(\"SIR dynamics\")\n",
    "plt.legend(loc=\"best\")\n",
    "plt.show()"
   ]
  },
  {
   "cell_type": "markdown",
   "id": "1a20a518",
   "metadata": {},
   "source": [
    "## SUPPLEMENT TO PART 1 . Equivalence of EoN.Gillespie_SIR and EoN.fast_SIR\n",
    "**Reference**: https://arxiv.org/pdf/2001.02436.pdf"
   ]
  },
  {
   "cell_type": "code",
   "execution_count": null,
   "id": "3e7f21a4",
   "metadata": {},
   "outputs": [],
   "source": [
    "# EQUIVALENCE EoN.Gillespie_SIR AND EoN.fast_SIR\n",
    "\n",
    "t_f, S_f, I_f, R_f = EoN.fast_SIR(g, tau=beta, gamma=gamma, rho=rho)\n",
    "t_g, S_g, I_g, R_g = EoN.Gillespie_SIR(g, tau=beta, gamma=gamma, rho=rho)\n",
    "\n",
    "plt.plot(t_f, I_f, label = 'fast_SIR')\n",
    "plt.plot(t_g, I_g, label = 'Gillespie_SIR')\n",
    "plt.xlabel('$t$')\n",
    "plt.ylabel('Number infected')\n",
    "plt.legend()\n",
    "plt.show()"
   ]
  },
  {
   "cell_type": "markdown",
   "id": "a54f95d4",
   "metadata": {},
   "source": [
    "## PART 2 . Generate a random network by randomly rewiring a variable percentage of edges and repeat Part 1"
   ]
  },
  {
   "cell_type": "markdown",
   "id": "03c0b125",
   "metadata": {},
   "source": [
    "### Graph creation"
   ]
  },
  {
   "cell_type": "code",
   "execution_count": null,
   "id": "624f3ab6",
   "metadata": {},
   "outputs": [],
   "source": [
    "# PARAMETERS\n",
    "\n",
    "#percentage of edges to rewire\n",
    "p = 0.3"
   ]
  },
  {
   "cell_type": "code",
   "execution_count": null,
   "id": "85c56708",
   "metadata": {},
   "outputs": [],
   "source": [
    "# EXAMPLE GRAPHS WITH 30% OF EDGES REMOVED\n",
    "\n",
    "#Copy of g\n",
    "g_s = g.copy() \n",
    "\n",
    "#population size\n",
    "N_s = g_s.order()\n",
    "\n",
    "#Sample a percentage p of random edges and nodes\n",
    "sampled_edges = random.sample(g_s.edges,int(p*N_s))\n",
    "sampled_nodes = random.sample(g_s.nodes,int(p*N_s))\n",
    "\n",
    "#rewire a percentage p of random edges\n",
    "for e in sampled_edges:\n",
    "    #remove random edge\n",
    "    g_s.remove_edge(*e)\n",
    "    #add back the edge\n",
    "    uv = random.sample(g_s.nodes,2)\n",
    "    g_s.add_edge(*uv)\n",
    "\n",
    "#check\n",
    "print(nx.info(g_s))"
   ]
  },
  {
   "cell_type": "code",
   "execution_count": null,
   "id": "f4aac00c",
   "metadata": {},
   "outputs": [],
   "source": [
    "# PLOTS\n",
    "\n",
    "spring_pos_gs = nx.spring_layout(g_s)\n",
    "nx.draw_networkx(g_s,pos=spring_pos_gs,with_labels=False,node_size=5)"
   ]
  },
  {
   "cell_type": "markdown",
   "id": "b06aec1f",
   "metadata": {},
   "source": [
    "### Repeat Part 1 with the new graph"
   ]
  },
  {
   "cell_type": "code",
   "execution_count": null,
   "id": "8fb1956b",
   "metadata": {},
   "outputs": [],
   "source": [
    "# SIR SIMULATION\n",
    "\n",
    "t_s, S_s, I_s, R_s = EoN.Gillespie_SIR(g_s, tau=beta, gamma=gamma, rho=rho)"
   ]
  },
  {
   "cell_type": "code",
   "execution_count": null,
   "id": "f60b5439",
   "metadata": {},
   "outputs": [],
   "source": [
    "# PLOTS OF THE SIR DYNAMICS\n",
    "\n",
    "fig, ax = plt.subplots()\n",
    "ax.plot(t_s, S_s, label = \"S\",color=\"blue\")\n",
    "ax.plot(t_s, I_s, label = \"I\",color=\"orange\")\n",
    "ax.plot(t_s, R_s, label = \"R\",color=\"green\")\n",
    "plt.title(\"SIR dynamics\")\n",
    "plt.legend(loc=\"best\")\n",
    "plt.show()"
   ]
  },
  {
   "cell_type": "code",
   "execution_count": null,
   "id": "9445d67d",
   "metadata": {},
   "outputs": [],
   "source": [
    "# EPIDEMIC SIZE\n",
    "\n",
    "I_s.argmax()/N_s"
   ]
  },
  {
   "cell_type": "code",
   "execution_count": null,
   "id": "031d27db",
   "metadata": {
    "scrolled": true
   },
   "outputs": [],
   "source": [
    "# ANALYSIS OF THE FINAL EPIDEMIC SIZE AS BETA CHANGES WHEN GAMMA IS FIXED \n",
    "\n",
    "#Simulation when r0>1\n",
    "t3, S3, I3, R3 = EoN.Gillespie_SIR(g_s,tau = betas[0], gamma = gamma,rho = rho)\n",
    "\n",
    "#Simulation when r0>1\n",
    "t4, S4, I4, R4 = EoN.Gillespie_SIR(g_s,tau = betas[1], gamma = gamma,rho = rho)\n",
    "\n",
    "#plots of the SIR dynamics\n",
    "plt.plot(t3, I3, color='r', label='R_0>1')\n",
    "plt.plot(t4, I4, color='g', label='R_0<1')\n",
    "plt.legend()\n",
    "plt.show()\n",
    "\n",
    "#Simulation in the case of epidemic threshold\n",
    "t5, S5, I5, R5 = EoN.Gillespie_SIR(g_s,tau=gamma, gamma = gamma,rho = rho)\n",
    "\n",
    "#plots of the SIR dynamics\n",
    "fig, ax = plt.subplots()\n",
    "ax.plot(t5, S5, label = \"S\",color=\"blue\")\n",
    "ax.plot(t5, I5, label = \"I\",color=\"orange\")\n",
    "ax.plot(t5, R5, label = \"R\",color=\"green\")\n",
    "plt.title(\"SIR dynamics in the epidemic threshold case\")\n",
    "plt.legend(loc=\"best\")\n",
    "plt.show()"
   ]
  },
  {
   "cell_type": "markdown",
   "id": "cd4e138e",
   "metadata": {},
   "source": [
    "## PART 3 . Repeat Part 1 with part of the population immunized\n"
   ]
  },
  {
   "cell_type": "markdown",
   "id": "b7ed597d",
   "metadata": {},
   "source": [
    "### Initial immunized choosed at random"
   ]
  },
  {
   "cell_type": "code",
   "execution_count": 4,
   "id": "beade7e3",
   "metadata": {},
   "outputs": [],
   "source": [
    "# SIMULATION WITHOUT IMMUNIZATION\n",
    "\n",
    "sir=AF.SIR(graph=g,beta=beta,gamma=gamma,recovery=\"\")\n",
    "sir.run(priority=\"\",frac=0.00)\n",
    "data=sir.getDataNormalized()"
   ]
  },
  {
   "cell_type": "code",
   "execution_count": 5,
   "id": "18a05ec4",
   "metadata": {
    "scrolled": true
   },
   "outputs": [
    {
     "data": {
      "image/png": "[encoded data removed]",
      "text/plain": [
       "<Figure size 432x288 with 1 Axes>"
      ]
     },
     "metadata": {
      "needs_background": "light"
     },
     "output_type": "display_data"
    }
   ],
   "source": [
    "# PLOTS\n",
    "\n",
    "AF.plot_sir(plt,data, title=\"SIR without immunization\")"
   ]
  },
  {
   "cell_type": "code",
   "execution_count": 12,
   "id": "5d31d447",
   "metadata": {},
   "outputs": [],
   "source": [
    "# SIMULATION WITH RANDOM IMMUNIZATION\n",
    "\n",
    "sir = AF.SIR(graph=g,beta=beta,gamma=gamma,recovery=\"\")\n",
    "sir.run(priority=\"random\", frac=0.3)\n",
    "data_immunization=sir.getDataNormalized()"
   ]
  },
  {
   "cell_type": "code",
   "execution_count": 13,
   "id": "71f0fa76",
   "metadata": {},
   "outputs": [
    {
     "data": {
      "image/png": "[encoded data removed]",
      "text/plain": [
       "<Figure size 432x288 with 1 Axes>"
      ]
     },
     "metadata": {
      "needs_background": "light"
     },
     "output_type": "display_data"
    }
   ],
   "source": [
    "# PLOTS\n",
    "\n",
    "AF.plot_sir(plt,data_immunization, title=\"SIR with random immunization\")"
   ]
  },
  {
   "cell_type": "markdown",
   "id": "7125630d",
   "metadata": {},
   "source": [
    "### Initial immunized choosed following the closeness centrality"
   ]
  },
  {
   "cell_type": "code",
   "execution_count": 14,
   "id": "16280442",
   "metadata": {},
   "outputs": [
    {
     "ename": "KeyError",
     "evalue": "(0, 19)",
     "output_type": "error",
     "traceback": [
      "\u001b[0;31m---------------------------------------------------------------------------\u001b[0m",
      "\u001b[0;31mKeyError\u001b[0m                                  Traceback (most recent call last)",
      "\u001b[0;32m<ipython-input-14-a6c445d0e58a>\u001b[0m in \u001b[0;36m<module>\u001b[0;34m\u001b[0m\n\u001b[1;32m      2\u001b[0m \u001b[0;34m\u001b[0m\u001b[0m\n\u001b[1;32m      3\u001b[0m \u001b[0msir\u001b[0m \u001b[0;34m=\u001b[0m \u001b[0mAF\u001b[0m\u001b[0;34m.\u001b[0m\u001b[0mSIR\u001b[0m\u001b[0;34m(\u001b[0m\u001b[0mgraph\u001b[0m\u001b[0;34m=\u001b[0m\u001b[0mg\u001b[0m\u001b[0;34m,\u001b[0m\u001b[0mbeta\u001b[0m\u001b[0;34m=\u001b[0m\u001b[0mbeta\u001b[0m\u001b[0;34m,\u001b[0m\u001b[0mgamma\u001b[0m\u001b[0;34m=\u001b[0m\u001b[0mgamma\u001b[0m\u001b[0;34m,\u001b[0m\u001b[0mrecovery\u001b[0m\u001b[0;34m=\u001b[0m\u001b[0;34m\"\"\u001b[0m\u001b[0;34m)\u001b[0m\u001b[0;34m\u001b[0m\u001b[0;34m\u001b[0m\u001b[0m\n\u001b[0;32m----> 4\u001b[0;31m \u001b[0msir\u001b[0m\u001b[0;34m.\u001b[0m\u001b[0mrun\u001b[0m\u001b[0;34m(\u001b[0m\u001b[0mpriority\u001b[0m\u001b[0;34m=\u001b[0m\u001b[0;34m\"degree\"\u001b[0m\u001b[0;34m,\u001b[0m \u001b[0mfrac\u001b[0m\u001b[0;34m=\u001b[0m\u001b[0;36m0.3\u001b[0m\u001b[0;34m)\u001b[0m\u001b[0;34m\u001b[0m\u001b[0;34m\u001b[0m\u001b[0m\n\u001b[0m\u001b[1;32m      5\u001b[0m \u001b[0mdata_immunization\u001b[0m\u001b[0;34m=\u001b[0m\u001b[0msir\u001b[0m\u001b[0;34m.\u001b[0m\u001b[0mgetDataNormalized\u001b[0m\u001b[0;34m(\u001b[0m\u001b[0;34m)\u001b[0m\u001b[0;34m\u001b[0m\u001b[0;34m\u001b[0m\u001b[0m\n",
      "\u001b[0;32m~/Desktop/DEPM_2/auxiliary_functions.py\u001b[0m in \u001b[0;36mrun\u001b[0;34m(self, frac, priority, recovery, seed, num_steps, nodes, g_sample, thresh)\u001b[0m\n\u001b[1;32m     46\u001b[0m             \u001b[0mself\u001b[0m\u001b[0;34m.\u001b[0m\u001b[0mrandom_immunization\u001b[0m\u001b[0;34m(\u001b[0m\u001b[0mfrac\u001b[0m\u001b[0;34m)\u001b[0m\u001b[0;34m\u001b[0m\u001b[0;34m\u001b[0m\u001b[0m\n\u001b[1;32m     47\u001b[0m         \u001b[0;32melif\u001b[0m \u001b[0mpriority\u001b[0m\u001b[0;34m==\u001b[0m\u001b[0;34m\"degree\"\u001b[0m\u001b[0;34m:\u001b[0m\u001b[0;34m\u001b[0m\u001b[0;34m\u001b[0m\u001b[0m\n\u001b[0;32m---> 48\u001b[0;31m             \u001b[0mself\u001b[0m\u001b[0;34m.\u001b[0m\u001b[0mprioritized_immunization\u001b[0m\u001b[0;34m(\u001b[0m\u001b[0mfrac\u001b[0m\u001b[0;34m)\u001b[0m\u001b[0;34m\u001b[0m\u001b[0;34m\u001b[0m\u001b[0m\n\u001b[0m\u001b[1;32m     49\u001b[0m \u001b[0;34m\u001b[0m\u001b[0m\n\u001b[1;32m     50\u001b[0m         \u001b[0;32mif\u001b[0m \u001b[0;32mnot\u001b[0m \u001b[0mlen\u001b[0m\u001b[0;34m(\u001b[0m\u001b[0mseed\u001b[0m\u001b[0;34m)\u001b[0m\u001b[0;34m:\u001b[0m\u001b[0;34m\u001b[0m\u001b[0;34m\u001b[0m\u001b[0m\n",
      "\u001b[0;32m~/Desktop/DEPM_2/auxiliary_functions.py\u001b[0m in \u001b[0;36mprioritized_immunization\u001b[0;34m(self, frac, flag)\u001b[0m\n\u001b[1;32m     36\u001b[0m \u001b[0;34m\u001b[0m\u001b[0m\n\u001b[1;32m     37\u001b[0m \u001b[0;34m\u001b[0m\u001b[0m\n\u001b[0;32m---> 38\u001b[0;31m         \u001b[0mdegree\u001b[0m\u001b[0;34m=\u001b[0m\u001b[0msorted\u001b[0m\u001b[0;34m(\u001b[0m \u001b[0;34m[\u001b[0m\u001b[0;34m(\u001b[0m\u001b[0mk\u001b[0m\u001b[0;34m,\u001b[0m \u001b[0mdegree_dict\u001b[0m\u001b[0;34m[\u001b[0m\u001b[0mk\u001b[0m\u001b[0;34m]\u001b[0m\u001b[0;34m)\u001b[0m \u001b[0;32mfor\u001b[0m \u001b[0mk\u001b[0m \u001b[0;32min\u001b[0m \u001b[0mdegree_dict\u001b[0m\u001b[0;34m]\u001b[0m\u001b[0;34m,\u001b[0m \u001b[0mkey\u001b[0m\u001b[0;34m=\u001b[0m\u001b[0;32mlambda\u001b[0m \u001b[0mu\u001b[0m\u001b[0;34m:\u001b[0m\u001b[0mu\u001b[0m\u001b[0;34m[\u001b[0m\u001b[0;36m1\u001b[0m\u001b[0;34m]\u001b[0m\u001b[0;34m,\u001b[0m \u001b[0mreverse\u001b[0m\u001b[0;34m=\u001b[0m\u001b[0;32mTrue\u001b[0m \u001b[0;34m)\u001b[0m\u001b[0;34m\u001b[0m\u001b[0;34m\u001b[0m\u001b[0m\n\u001b[0m\u001b[1;32m     39\u001b[0m         \u001b[0mimmune\u001b[0m\u001b[0;34m=\u001b[0m\u001b[0;34m[\u001b[0m\u001b[0md\u001b[0m\u001b[0;34m[\u001b[0m\u001b[0;36m0\u001b[0m\u001b[0;34m]\u001b[0m \u001b[0;32mfor\u001b[0m \u001b[0md\u001b[0m \u001b[0;32min\u001b[0m \u001b[0mdegree\u001b[0m\u001b[0;34m[\u001b[0m\u001b[0;34m:\u001b[0m\u001b[0mn\u001b[0m\u001b[0;34m]\u001b[0m\u001b[0;34m]\u001b[0m\u001b[0;34m\u001b[0m\u001b[0;34m\u001b[0m\u001b[0m\n\u001b[1;32m     40\u001b[0m         \u001b[0;32mfor\u001b[0m \u001b[0mnode\u001b[0m \u001b[0;32min\u001b[0m \u001b[0mimmune\u001b[0m\u001b[0;34m:\u001b[0m\u001b[0;34m\u001b[0m\u001b[0;34m\u001b[0m\u001b[0m\n",
      "\u001b[0;32m~/Desktop/DEPM_2/auxiliary_functions.py\u001b[0m in \u001b[0;36m<listcomp>\u001b[0;34m(.0)\u001b[0m\n\u001b[1;32m     36\u001b[0m \u001b[0;34m\u001b[0m\u001b[0m\n\u001b[1;32m     37\u001b[0m \u001b[0;34m\u001b[0m\u001b[0m\n\u001b[0;32m---> 38\u001b[0;31m         \u001b[0mdegree\u001b[0m\u001b[0;34m=\u001b[0m\u001b[0msorted\u001b[0m\u001b[0;34m(\u001b[0m \u001b[0;34m[\u001b[0m\u001b[0;34m(\u001b[0m\u001b[0mk\u001b[0m\u001b[0;34m,\u001b[0m \u001b[0mdegree_dict\u001b[0m\u001b[0;34m[\u001b[0m\u001b[0mk\u001b[0m\u001b[0;34m]\u001b[0m\u001b[0;34m)\u001b[0m \u001b[0;32mfor\u001b[0m \u001b[0mk\u001b[0m \u001b[0;32min\u001b[0m \u001b[0mdegree_dict\u001b[0m\u001b[0;34m]\u001b[0m\u001b[0;34m,\u001b[0m \u001b[0mkey\u001b[0m\u001b[0;34m=\u001b[0m\u001b[0;32mlambda\u001b[0m \u001b[0mu\u001b[0m\u001b[0;34m:\u001b[0m\u001b[0mu\u001b[0m\u001b[0;34m[\u001b[0m\u001b[0;36m1\u001b[0m\u001b[0;34m]\u001b[0m\u001b[0;34m,\u001b[0m \u001b[0mreverse\u001b[0m\u001b[0;34m=\u001b[0m\u001b[0;32mTrue\u001b[0m \u001b[0;34m)\u001b[0m\u001b[0;34m\u001b[0m\u001b[0;34m\u001b[0m\u001b[0m\n\u001b[0m\u001b[1;32m     39\u001b[0m         \u001b[0mimmune\u001b[0m\u001b[0;34m=\u001b[0m\u001b[0;34m[\u001b[0m\u001b[0md\u001b[0m\u001b[0;34m[\u001b[0m\u001b[0;36m0\u001b[0m\u001b[0;34m]\u001b[0m \u001b[0;32mfor\u001b[0m \u001b[0md\u001b[0m \u001b[0;32min\u001b[0m \u001b[0mdegree\u001b[0m\u001b[0;34m[\u001b[0m\u001b[0;34m:\u001b[0m\u001b[0mn\u001b[0m\u001b[0;34m]\u001b[0m\u001b[0;34m]\u001b[0m\u001b[0;34m\u001b[0m\u001b[0;34m\u001b[0m\u001b[0m\n\u001b[1;32m     40\u001b[0m         \u001b[0;32mfor\u001b[0m \u001b[0mnode\u001b[0m \u001b[0;32min\u001b[0m \u001b[0mimmune\u001b[0m\u001b[0;34m:\u001b[0m\u001b[0;34m\u001b[0m\u001b[0;34m\u001b[0m\u001b[0m\n",
      "\u001b[0;32m~/opt/anaconda3/lib/python3.8/site-packages/networkx/classes/reportviews.py\u001b[0m in \u001b[0;36m__getitem__\u001b[0;34m(self, n)\u001b[0m\n\u001b[1;32m    445\u001b[0m     \u001b[0;32mdef\u001b[0m \u001b[0m__getitem__\u001b[0m\u001b[0;34m(\u001b[0m\u001b[0mself\u001b[0m\u001b[0;34m,\u001b[0m \u001b[0mn\u001b[0m\u001b[0;34m)\u001b[0m\u001b[0;34m:\u001b[0m\u001b[0;34m\u001b[0m\u001b[0;34m\u001b[0m\u001b[0m\n\u001b[1;32m    446\u001b[0m         \u001b[0mweight\u001b[0m \u001b[0;34m=\u001b[0m \u001b[0mself\u001b[0m\u001b[0;34m.\u001b[0m\u001b[0m_weight\u001b[0m\u001b[0;34m\u001b[0m\u001b[0;34m\u001b[0m\u001b[0m\n\u001b[0;32m--> 447\u001b[0;31m         \u001b[0mnbrs\u001b[0m \u001b[0;34m=\u001b[0m \u001b[0mself\u001b[0m\u001b[0;34m.\u001b[0m\u001b[0m_succ\u001b[0m\u001b[0;34m[\u001b[0m\u001b[0mn\u001b[0m\u001b[0;34m]\u001b[0m\u001b[0;34m\u001b[0m\u001b[0;34m\u001b[0m\u001b[0m\n\u001b[0m\u001b[1;32m    448\u001b[0m         \u001b[0;32mif\u001b[0m \u001b[0mweight\u001b[0m \u001b[0;32mis\u001b[0m \u001b[0;32mNone\u001b[0m\u001b[0;34m:\u001b[0m\u001b[0;34m\u001b[0m\u001b[0;34m\u001b[0m\u001b[0m\n\u001b[1;32m    449\u001b[0m             \u001b[0;32mreturn\u001b[0m \u001b[0mlen\u001b[0m\u001b[0;34m(\u001b[0m\u001b[0mnbrs\u001b[0m\u001b[0;34m)\u001b[0m \u001b[0;34m+\u001b[0m \u001b[0;34m(\u001b[0m\u001b[0mn\u001b[0m \u001b[0;32min\u001b[0m \u001b[0mnbrs\u001b[0m\u001b[0;34m)\u001b[0m\u001b[0;34m\u001b[0m\u001b[0;34m\u001b[0m\u001b[0m\n",
      "\u001b[0;31mKeyError\u001b[0m: (0, 19)"
     ]
    }
   ],
   "source": [
    "# SIMULATION WITH CLOSENESS IMMUNIZATION\n",
    "\n",
    "sir = AF.SIR(graph=g,beta=beta,gamma=gamma,recovery=\"\")\n",
    "sir.run(priority=\"degree\", frac=0.3)\n",
    "data_immunization=sir.getDataNormalized()"
   ]
  },
  {
   "cell_type": "code",
   "execution_count": 15,
   "id": "248f2ccb",
   "metadata": {},
   "outputs": [
    {
     "data": {
      "image/png": "[encoded data removed]",
      "text/plain": [
       "<Figure size 432x288 with 1 Axes>"
      ]
     },
     "metadata": {
      "needs_background": "light"
     },
     "output_type": "display_data"
    }
   ],
   "source": [
    "# PLOTS\n",
    "\n",
    "AF.plot_sir(plt,data_immunization, title=\"SIR with closeness immunization\")"
   ]
  },
  {
   "cell_type": "markdown",
   "id": "233c25d8",
   "metadata": {},
   "source": [
    "## PART 4. Assign the recovery rate to each individual from a probability distribution and repeat Part 1."
   ]
  },
  {
   "cell_type": "code",
   "execution_count": 20,
   "id": "17b01211",
   "metadata": {},
   "outputs": [
    {
     "data": {
      "image/png": "[encoded data removed]",
      "text/plain": [
       "<Figure size 432x288 with 1 Axes>"
      ]
     },
     "metadata": {
      "needs_background": "light"
     },
     "output_type": "display_data"
    }
   ],
   "source": [
    "# SIMULATION WITH UNIFORM RECOVERY\n",
    "\n",
    "sir = AF.SIR(graph=g,beta=beta,gamma=gamma,recovery=\"\")\n",
    "sir.run(priority=\"\", frac=0.00)\n",
    "data=sir.getDataNormalized()\n",
    "\n",
    "\n",
    "# PLOTS\n",
    "\n",
    "AF.plot_sir(plt,data, title=\"SIR dynamics uniform recovery\")"
   ]
  },
  {
   "cell_type": "code",
   "execution_count": 26,
   "id": "4c08e1f9",
   "metadata": {},
   "outputs": [
    {
     "data": {
      "image/png": "[encoded data removed]",
      "text/plain": [
       "<Figure size 432x288 with 1 Axes>"
      ]
     },
     "metadata": {
      "needs_background": "light"
     },
     "output_type": "display_data"
    }
   ],
   "source": [
    "# SIMULATION WITH GAUSSIAN RECOVERY\n",
    "\n",
    "sir = AF.SIR(graph=g,beta=beta,gamma=gamma,recovery=\"gaussian\")\n",
    "sir.run(priority=\"\", frac=0.00)\n",
    "data=sir.getDataNormalized()\n",
    "\n",
    "\n",
    "# PLOTS\n",
    "\n",
    "AF.plot_sir(plt,data, title=\"SIR dynamics gaussian recovery\")"
   ]
  },
  {
   "cell_type": "code",
   "execution_count": 28,
   "id": "24471e7a",
   "metadata": {},
   "outputs": [
    {
     "data": {
      "image/png": "[encoded data removed]",
      "text/plain": [
       "<Figure size 432x288 with 1 Axes>"
      ]
     },
     "metadata": {
      "needs_background": "light"
     },
     "output_type": "display_data"
    }
   ],
   "source": [
    "# SIMULATION WITH POWER LAW RECOVERY WITH a=2\n",
    "\n",
    "sir = AF.SIR(graph=g,beta=beta,gamma=gamma,recovery=\"power\")\n",
    "sir.run(priority=\"\", frac=0.00)\n",
    "data=sir.getDataNormalized()\n",
    "\n",
    "\n",
    "# PLOTS\n",
    "\n",
    "AF.plot_sir(plt,data, title=\"SIR dynamics power law recovery\")"
   ]
  },
  {
   "cell_type": "code",
   "execution_count": null,
   "id": "39e1ac46",
   "metadata": {},
   "outputs": [],
   "source": []
  }
 ],
 "metadata": {
  "kernelspec": {
   "display_name": "Python 3",
   "language": "python",
   "name": "python3"
  },
  "language_info": {
   "codemirror_mode": {
    "name": "ipython",
    "version": 3
   },
   "file_extension": ".py",
   "mimetype": "text/x-python",
   "name": "python",
   "nbconvert_exporter": "python",
   "pygments_lexer": "ipython3",
   "version": "3.8.8"
  }
 },
 "nbformat": 4,
 "nbformat_minor": 5
}
